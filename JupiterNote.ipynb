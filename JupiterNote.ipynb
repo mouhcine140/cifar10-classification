{
 "cells": [
  {
   "cell_type": "code",
   "execution_count": null,
   "id": "66a3d028",
   "metadata": {},
   "outputs": [],
   "source": [
    "        # Classification d'images avec un CNN - Devoir de l'etudiant mouhcine riany"
   ]
  },
  {
   "cell_type": "code",
   "execution_count": null,
   "id": "efe1f36b",
   "metadata": {},
   "outputs": [],
   "source": [
    "# Ce notebook présente la classification d'images du dataset CIFAR10 en deux catégories : \"peut voler\" et \"ne peut pas voler\"."
   ]
  },
  {
   "cell_type": "code",
   "execution_count": null,
   "id": "048396ca",
   "metadata": {},
   "outputs": [],
   "source": [
    "## 1. Charger et préparer les données CIFAR10"
   ]
  },
  {
   "cell_type": "code",
   "execution_count": 1,
   "id": "40d59e24",
   "metadata": {},
   "outputs": [],
   "source": [
    "import tensorflow as tf\n",
    "from tensorflow.keras.datasets import cifar10\n",
    "from tensorflow.keras.utils import to_categorical\n",
    "import numpy as np\n",
    "\n",
    "(x_train, y_train), (x_test, y_test) = cifar10.load_data()\n",
    "can_fly_classes = [0, 2]  # avion, oiseau\n",
    "cannot_fly_classes = [1, 3, 4, 5, 6, 7, 8, 9]  # autres classes\n",
    "\n",
    "# Filtrer les données pour la classification binaire\n",
    "def filter_classes(x, y, classes):\n",
    "    mask = np.isin(y, classes).flatten()\n",
    "    return x[mask], y[mask]\n",
    "\n",
    "x_train, y_train = filter_classes(x_train, y_train, can_fly_classes + cannot_fly_classes)\n",
    "x_test, y_test = filter_classes(x_test, y_test, can_fly_classes + cannot_fly_classes)\n",
    "y_train = np.where(np.isin(y_train, can_fly_classes), 1, 0)\n",
    "y_test = np.where(np.isin(y_test, can_fly_classes), 1, 0)\n",
    "y_train = to_categorical(y_train, 2)\n",
    "y_test = to_categorical(y_test, 2)"
   ]
  },
  {
   "cell_type": "code",
   "execution_count": null,
   "id": "52feace0",
   "metadata": {},
   "outputs": [],
   "source": [
    "# Construire le modèle CNN et compiler le model"
   ]
  },
  {
   "cell_type": "code",
   "execution_count": 2,
   "id": "f3fc54ad",
   "metadata": {},
   "outputs": [],
   "source": [
    "from tensorflow.keras.models import Sequential\n",
    "from tensorflow.keras.layers import Conv2D, MaxPooling2D, Flatten, Dense, Dropout, Input\n",
    "\n",
    "model = Sequential([\n",
    "    Input(shape=(32, 32, 3)),\n",
    "    Conv2D(32, (3, 3), activation='relu'),\n",
    "    MaxPooling2D((2, 2)),\n",
    "    Conv2D(64, (3, 3), activation='relu'),\n",
    "    MaxPooling2D((2, 2)),\n",
    "    Flatten(),\n",
    "    Dense(128, activation='relu'),\n",
    "    Dropout(0.5),\n",
    "    Dense(2, activation='softmax')\n",
    "])\n",
    "\n",
    "model.compile(optimizer='adam', loss='categorical_crossentropy', metrics=['accuracy'])\n"
   ]
  },
  {
   "cell_type": "code",
   "execution_count": null,
   "id": "f69f555a",
   "metadata": {},
   "outputs": [],
   "source": [
    "# Entrainer le model"
   ]
  },
  {
   "cell_type": "code",
   "execution_count": 3,
   "id": "bc242eaf",
   "metadata": {},
   "outputs": [
    {
     "name": "stdout",
     "output_type": "stream",
     "text": [
      "Epoch 1/10\n",
      "\u001b[1m782/782\u001b[0m \u001b[32m━━━━━━━━━━━━━━━━━━━━\u001b[0m\u001b[37m\u001b[0m \u001b[1m14s\u001b[0m 17ms/step - accuracy: 0.7806 - loss: 2.8359 - val_accuracy: 0.8265 - val_loss: 0.4059\n",
      "Epoch 2/10\n",
      "\u001b[1m782/782\u001b[0m \u001b[32m━━━━━━━━━━━━━━━━━━━━\u001b[0m\u001b[37m\u001b[0m \u001b[1m12s\u001b[0m 15ms/step - accuracy: 0.8198 - loss: 0.4258 - val_accuracy: 0.8323 - val_loss: 0.4034\n",
      "Epoch 3/10\n",
      "\u001b[1m782/782\u001b[0m \u001b[32m━━━━━━━━━━━━━━━━━━━━\u001b[0m\u001b[37m\u001b[0m \u001b[1m13s\u001b[0m 17ms/step - accuracy: 0.8289 - loss: 0.3984 - val_accuracy: 0.8467 - val_loss: 0.3861\n",
      "Epoch 4/10\n",
      "\u001b[1m782/782\u001b[0m \u001b[32m━━━━━━━━━━━━━━━━━━━━\u001b[0m\u001b[37m\u001b[0m \u001b[1m13s\u001b[0m 16ms/step - accuracy: 0.8440 - loss: 0.3750 - val_accuracy: 0.8358 - val_loss: 0.4077\n",
      "Epoch 5/10\n",
      "\u001b[1m782/782\u001b[0m \u001b[32m━━━━━━━━━━━━━━━━━━━━\u001b[0m\u001b[37m\u001b[0m \u001b[1m13s\u001b[0m 17ms/step - accuracy: 0.8489 - loss: 0.3612 - val_accuracy: 0.8526 - val_loss: 0.3486\n",
      "Epoch 6/10\n",
      "\u001b[1m782/782\u001b[0m \u001b[32m━━━━━━━━━━━━━━━━━━━━\u001b[0m\u001b[37m\u001b[0m \u001b[1m13s\u001b[0m 17ms/step - accuracy: 0.8549 - loss: 0.3452 - val_accuracy: 0.8671 - val_loss: 0.3283\n",
      "Epoch 7/10\n",
      "\u001b[1m782/782\u001b[0m \u001b[32m━━━━━━━━━━━━━━━━━━━━\u001b[0m\u001b[37m\u001b[0m \u001b[1m12s\u001b[0m 16ms/step - accuracy: 0.8618 - loss: 0.3336 - val_accuracy: 0.8663 - val_loss: 0.3371\n",
      "Epoch 8/10\n",
      "\u001b[1m782/782\u001b[0m \u001b[32m━━━━━━━━━━━━━━━━━━━━\u001b[0m\u001b[37m\u001b[0m \u001b[1m12s\u001b[0m 16ms/step - accuracy: 0.8642 - loss: 0.3265 - val_accuracy: 0.8734 - val_loss: 0.3194\n",
      "Epoch 9/10\n",
      "\u001b[1m782/782\u001b[0m \u001b[32m━━━━━━━━━━━━━━━━━━━━\u001b[0m\u001b[37m\u001b[0m \u001b[1m14s\u001b[0m 17ms/step - accuracy: 0.8763 - loss: 0.3004 - val_accuracy: 0.8544 - val_loss: 0.3828\n",
      "Epoch 10/10\n",
      "\u001b[1m782/782\u001b[0m \u001b[32m━━━━━━━━━━━━━━━━━━━━\u001b[0m\u001b[37m\u001b[0m \u001b[1m13s\u001b[0m 16ms/step - accuracy: 0.8778 - loss: 0.2939 - val_accuracy: 0.8773 - val_loss: 0.3078\n"
     ]
    }
   ],
   "source": [
    "history = model.fit(x_train, y_train, epochs=10, validation_data=(x_test, y_test), batch_size=64)"
   ]
  },
  {
   "cell_type": "code",
   "execution_count": null,
   "id": "b2203970",
   "metadata": {},
   "outputs": [],
   "source": [
    "# Evaluer le model"
   ]
  },
  {
   "cell_type": "code",
   "execution_count": 5,
   "id": "9f97b607",
   "metadata": {},
   "outputs": [
    {
     "name": "stdout",
     "output_type": "stream",
     "text": [
      "\u001b[1m313/313\u001b[0m \u001b[32m━━━━━━━━━━━━━━━━━━━━\u001b[0m\u001b[37m\u001b[0m \u001b[1m1s\u001b[0m 3ms/step\n",
      "Précision: 0.8084596967278531\n",
      "Rappel: 0.5065\n",
      "F1 Score: 0.6228097141100521\n",
      "Exactitude: 0.8773\n"
     ]
    },
    {
     "data": {
      "image/png": "[encoded data removed]",
      "text/plain": [
       "<Figure size 640x480 with 2 Axes>"
      ]
     },
     "metadata": {},
     "output_type": "display_data"
    }
   ],
   "source": [
    "from sklearn.metrics import precision_score, recall_score, f1_score, accuracy_score, confusion_matrix\n",
    "import matplotlib.pyplot as plt\n",
    "import seaborn as sns\n",
    "\n",
    "y_pred = model.predict(x_test)\n",
    "y_pred_classes = np.argmax(y_pred, axis=1)\n",
    "y_true = np.argmax(y_test, axis=1)\n",
    "precision = precision_score(y_true, y_pred_classes)\n",
    "recall = recall_score(y_true, y_pred_classes)\n",
    "f1 = f1_score(y_true, y_pred_classes)\n",
    "accuracy = accuracy_score(y_true, y_pred_classes)\n",
    "print(f'Précision: {precision}')\n",
    "print(f'Rappel: {recall}')\n",
    "print(f'F1 Score: {f1}')\n",
    "print(f'Exactitude: {accuracy}')\n",
    "cm = confusion_matrix(y_true, y_pred_classes)\n",
    "sns.heatmap(cm, annot=True, fmt='d', cmap='Blues')\n",
    "plt.xlabel('Prédit')\n",
    "plt.ylabel('Vrai')\n",
    "plt.show()\n"
   ]
  },
  {
   "cell_type": "code",
   "execution_count": null,
   "id": "35919541",
   "metadata": {},
   "outputs": [],
   "source": []
  },
  {
   "cell_type": "code",
   "execution_count": null,
   "id": "a62244dd",
   "metadata": {},
   "outputs": [],
   "source": []
  }
 ],
 "metadata": {
  "kernelspec": {
   "display_name": "Python 3 (ipykernel)",
   "language": "python",
   "name": "python3"
  },
  "language_info": {
   "codemirror_mode": {
    "name": "ipython",
    "version": 3
   },
   "file_extension": ".py",
   "mimetype": "text/x-python",
   "name": "python",
   "nbconvert_exporter": "python",
   "pygments_lexer": "ipython3",
   "version": "3.11.5"
  }
 },
 "nbformat": 4,
 "nbformat_minor": 5
}
